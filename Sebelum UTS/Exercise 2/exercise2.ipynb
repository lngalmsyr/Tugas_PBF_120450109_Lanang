{
 "cells": [
  {
   "cell_type": "code",
   "execution_count": 4,
   "metadata": {},
   "outputs": [],
   "source": [
    "\n",
    "# Lanang Almasyuri Program exercise 2\n",
    "# Author : Lanang Almasyuri\n",
    "# NIM : 120450109\n",
    "# Affiliation : Sains Data ITERA\n",
    "# Program Description : Program to solve simple encryption password problem \n",
    "\n",
    "\n",
    "# Python3 program to find sum of\n",
    "# two large numbers.\n",
    "\n",
    "# Function for finding sum of\n",
    "# larger numbers\n",
    "\n",
    "file1 = open(\"C:/Users/Lenovo/OneDrive/Desktop/KELAS/PBF/Tugas/tugas wajib/exercise2/dataex1.txt\", \"r\")\n",
    "line1 = file1.readlines()\n",
    "file1.close\n",
    "\n",
    "file2 = open(\"C:/Users/Lenovo/OneDrive/Desktop/KELAS/PBF/Tugas/tugas wajib/exercise2/dataex2.txt\", \"r\")\n",
    "line2 = file2.readlines()\n",
    "file2.close\n",
    "\n",
    "str1 = str(line1)\n",
    "str2 = str(line2)\n",
    "\n",
    "def findSum(str1, str2):\n",
    "\t\n",
    "\t# Before proceeding further,\n",
    "\t# make sure length of str2 is larger.\n",
    "\tif (len(str1) > len(str2)):\n",
    "\t\tt = str1;\n",
    "\t\tstr1 = str2;\n",
    "\t\tstr2 = t;\n",
    "\n",
    "\t# Take an empty string for\n",
    "\t# storing result\n",
    "\tstr = \"\";\n",
    "\n",
    "\t# Calculate length of both string\n",
    "\tn1 = len(str1);\n",
    "\tn2 = len(str2);\n",
    "\n",
    "\t# Reverse both of strings\n",
    "\tstr1 = str1[::-1];\n",
    "\tstr2 = str2[::-1];\n",
    "\n",
    "\tcarry = 0;\n",
    "\tfor i in range(n1):\n",
    "\t\t\n",
    "\t\t# Do school mathematics, compute\n",
    "\t\t# sum of current digits and carry\n",
    "\t\tsum = ((ord(str1[i]) - 48) +\n",
    "\t\t\t((ord(str2[i]) - 48) + carry));\n",
    "\t\tstr += chr(sum % 10 + 48);\n",
    "\n",
    "\t\t# Calculate carry for next step\n",
    "\t\tcarry = int(sum / 10);\n",
    "\n",
    "\t# Add remaining digits of larger number\n",
    "\tfor i in range(n1, n2):\n",
    "\t\tsum = ((ord(str2[i]) - 48) + carry);\n",
    "\t\tstr += chr(sum % 10 + 48);\n",
    "\t\tcarry = (int)(sum / 10);\n",
    "\n",
    "\t# Add remaining carry\n",
    "\tif (carry):\n",
    "\t\tstr += chr(carry + 48);\n",
    "\n",
    "\t# reverse resultant string\n",
    "\tstr = str[::-1];\n",
    "\n",
    "\treturn str;\n",
    "\n"
   ]
  },
  {
   "cell_type": "code",
   "execution_count": 8,
   "metadata": {},
   "outputs": [
    {
     "name": "stdout",
     "output_type": "stream",
     "text": [
      "['9502561694858652150281747994108545943651521215096841995237040384498740803993469376602031341619585763'] + ['2116068642696162934965789080530992805391900568978958496201555855833896833372295507803936243187061092'] hasilnya adalah = 853161863033755481508524753707463953874904342178407580049143859624033263763736576488440596758480664685510\n"
     ]
    }
   ],
   "source": [
    "\n",
    "print (str1, \"+\", str2, \"hasilnya adalah =\", findSum(str1,str2))\n"
   ]
  }
 ],
 "metadata": {
  "interpreter": {
   "hash": "c5e48f84046969b800ff52f6d80523bcd1ca3fb1a99f1449e4197bf6c73dc096"
  },
  "kernelspec": {
   "display_name": "Python 3.9.7 ('base')",
   "language": "python",
   "name": "python3"
  },
  "language_info": {
   "codemirror_mode": {
    "name": "ipython",
    "version": 3
   },
   "file_extension": ".py",
   "mimetype": "text/x-python",
   "name": "python",
   "nbconvert_exporter": "python",
   "pygments_lexer": "ipython3",
   "version": "3.9.7"
  },
  "orig_nbformat": 4
 },
 "nbformat": 4,
 "nbformat_minor": 2
}
