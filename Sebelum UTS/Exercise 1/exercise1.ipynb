{
 "cells": [
  {
   "cell_type": "code",
   "execution_count": 1,
   "metadata": {},
   "outputs": [],
   "source": [
    "# Lanang Almasyuri Program exercise 1\n",
    "# Author : Lanang Almasyuri\n",
    "# NIM : 120450109\n",
    "# Affiliation : Sains Data ITERA\n",
    "# Program Description : Program to solve simple encryption password problem \n",
    "\n",
    "def encrypt(pwd):\n",
    "  splitpass = list(pwd)\n",
    "\n",
    "  asciipass = list()\n",
    "  for char in splitpass:\n",
    "    asciichar = ord(char)\n",
    "    asciipass.append(asciichar)\n",
    "\n",
    "  encryptedpass = \"\"\n",
    "  for num in asciipass:\n",
    "    firstval = num//26 + 80\n",
    "    secondval = num%26 + 80\n",
    "    if firstval > secondval:\n",
    "      thirdval = '-'\n",
    "    else:\n",
    "      thirdval = '+'\n",
    "\n",
    "    encryptedpass = encryptedpass + chr(firstval) + chr(secondval) + thirdval\n",
    "\n",
    "\n",
    "  return encryptedpass\n",
    "\n",
    "def decrypt(pwd):\n",
    "  splitpass = [pwd[i:i+3] for i in range(0, len(pwd), 3)]\n",
    "\n",
    "  asciipass = list()\n",
    "  for word in splitpass:\n",
    "    firstval = ord(word[0]) - 80\n",
    "    secval = ord(word[1]) - 80\n",
    "    val = 26 * firstval + secval\n",
    "    asciipass.append(val)\n",
    "\n",
    "  password = ''\n",
    "  for i in asciipass:\n",
    "    char = chr(i)\n",
    "    password = password + char\n",
    "\n",
    "  return password"
   ]
  },
  {
   "cell_type": "code",
   "execution_count": 3,
   "metadata": {},
   "outputs": [
    {
     "name": "stdout",
     "output_type": "stream",
     "text": [
      "terimakasih\n"
     ]
    }
   ],
   "source": [
    "while True :\n",
    "    jawab=input(\"apakah kamu ingin melakukan enkripsi(y/n)\")\n",
    "    if jawab  == \"y\":\n",
    "        text = input(\"masukkan text pasword anda`\")\n",
    "        print (\"Text : \" + text)\n",
    "        print (\"Cipher: \" + encrypt(text))\n",
    "    else:\n",
    "        print(\"terimakasih\")\n",
    "        break"
   ]
  },
  {
   "cell_type": "code",
   "execution_count": 4,
   "metadata": {},
   "outputs": [
    {
     "name": "stdout",
     "output_type": "stream",
     "text": [
      "Sc+TV+Sc+TS-Sc+TV+Sc+TS-Se+Sg+TZ+Sf+Sc+T[+Qh+Qf+Qh+Qf+\n"
     ]
    }
   ],
   "source": [
    "text=\"anakanakcerdas2020\"\n",
    "print(encrypt(text))"
   ]
  },
  {
   "cell_type": "code",
   "execution_count": 6,
   "metadata": {},
   "outputs": [
    {
     "name": "stdout",
     "output_type": "stream",
     "text": [
      "anaksainsdata2020kece\n"
     ]
    }
   ],
   "source": [
    "text=\"Sc-TV-Sc-TS+T[-Sc-TQ+TV-T[-Sf-Sc-T\\-Sc-Qh-Qf-Qh-Qf-TS+Sg-Se-Sg-\"\n",
    "print(decrypt(text))"
   ]
  },
  {
   "cell_type": "code",
   "execution_count": null,
   "metadata": {},
   "outputs": [],
   "source": []
  }
 ],
 "metadata": {
  "interpreter": {
   "hash": "c5e48f84046969b800ff52f6d80523bcd1ca3fb1a99f1449e4197bf6c73dc096"
  },
  "kernelspec": {
   "display_name": "Python 3.9.7 ('base')",
   "language": "python",
   "name": "python3"
  },
  "language_info": {
   "codemirror_mode": {
    "name": "ipython",
    "version": 3
   },
   "file_extension": ".py",
   "mimetype": "text/x-python",
   "name": "python",
   "nbconvert_exporter": "python",
   "pygments_lexer": "ipython3",
   "version": "3.9.7"
  },
  "orig_nbformat": 4
 },
 "nbformat": 4,
 "nbformat_minor": 2
}
